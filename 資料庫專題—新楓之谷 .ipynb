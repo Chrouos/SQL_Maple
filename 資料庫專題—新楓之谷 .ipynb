{
 "cells": [
  {
   "cell_type": "markdown",
   "metadata": {},
   "source": [
    "# 呼叫程式"
   ]
  },
  {
   "cell_type": "code",
   "execution_count": 13,
   "metadata": {},
   "outputs": [],
   "source": [
    "import pyodbc\n",
    "import pandas as pd"
   ]
  },
  {
   "cell_type": "markdown",
   "metadata": {},
   "source": [
    "# 呼叫資料庫"
   ]
  },
  {
   "cell_type": "code",
   "execution_count": 14,
   "metadata": {},
   "outputs": [
    {
     "name": "stdout",
     "output_type": "stream",
     "text": [
      "操作成功\n"
     ]
    }
   ],
   "source": [
    "try:\n",
    "    server = 'LAPTOP-BGP802KH\\SQLEXPRESS'\n",
    "    database = '新楓之谷'\n",
    "    username = 'sa'\n",
    "    password = 'asd464017'\n",
    "    cnxn = pyodbc.connect('DRIVER={ODBC Driver 17 for SQL Server};SERVER='+server+';DATABASE='+database+';UID='+username+';PWD='+ password)\n",
    "    cursor = cnxn.cursor()\n",
    "    print('操作成功')\n",
    "except:\n",
    "    print('操作錯誤')\n",
    "    \n"
   ]
  },
  {
   "cell_type": "markdown",
   "metadata": {},
   "source": [
    "# 測試區"
   ]
  },
  {
   "cell_type": "code",
   "execution_count": 3,
   "metadata": {},
   "outputs": [
    {
     "name": "stdout",
     "output_type": "stream",
     "text": [
      "以下為「哈哈」的角色資訊:\n",
      "  職業      等級       能力值       地點    \n",
      " 弓箭手      25         3700      機械墳場   \n",
      "\n"
     ]
    }
   ],
   "source": [
    "aba = 1495\n",
    "level = 13\n",
    "loc = '水之都'\n",
    "name = '哈哈'\n",
    "\n",
    "#query = \"UPDATE 角色 SET 等級 = \"+ str(level) + \", 能力值 = \" + str(aba) + \" WHERE convert(nvarchar(255), 暱稱) = '\" + name + \"'\"\n",
    "#print(query)\n",
    "#cursor.execute(query)\n",
    "\n",
    "#query = \"UPDATE 角色 SET 地點 = '\"+ loc +  \"' WHERE convert(nvarchar(255), 暱稱) = '\" + name + \"'\"\n",
    "#print(query)\n",
    "#cursor.execute(query)\n",
    "\n",
    "#cursor.execute(\"SELECT * from 角色\") \n",
    "#rows = cursor.fetchall()\n",
    "\n",
    "# 咦咦 10 1100 魔法森林\n",
    "#for row in rows:\n",
    "    #print(row.暱稱, row.等級, row.能力值, row.地點)\n",
    "\n",
    "#cursor.execute(\"SELECT * from 角色\") \n",
    "##rows = cursor.fetchall()\n",
    "    \n",
    "#print('以下為「{}」的角色資訊:'.format(name))\n",
    "#print('{:^6}{:^10}{:^9}{:^10}'.format('職業','等級', '能力值', '地點'))\n",
    "#for row in rows:\n",
    "#    if (row.暱稱 == name):\n",
    "#        print('{:^6}{:^11} {:^10}{:^10}\\n'.format(row.職業, row.等級, row.能力值, row.地點))\n",
    "\n",
    "\n",
    "levelq=input(\"請輸入您的問題:\")  # 玩家選擇回報內容 (須提供維修原因 = insert)    \n",
    "localtime = time.localtime() #抓取目前時間\n",
    "result = time.strftime(\"%Y-%m-%d %I:%M:%S\", localtime) #更改時間格式\n",
    "    \n",
    "# 上傳回報內容 (對應到維護人員代碼，部門，及維修原因，維修日期)\n",
    "#query = \"insert into 維護人員 values(?,?,?,?)\",'B01','關卡策畫',levelq,result\n",
    "#ursor.execute() \n",
    "#cnxn.commit()\n",
    "\n",
    "# 輸出所以近期回報內容\n",
    "cursor.execute(\"select * from 維護人員\")\n",
    "datas = cursor.fetchall() \n",
    "for data in datas:\n",
    "    print('維護人員:{}, 部門:{}, 維修原因:{}, 上次維修時間:{}'.format(data.維護人員,data.部門,data.維修原因,data.上次維修時間))"
   ]
  },
  {
   "cell_type": "markdown",
   "metadata": {},
   "source": [
    "# 查看所有帳號密碼(測試用)"
   ]
  },
  {
   "cell_type": "code",
   "execution_count": 15,
   "metadata": {},
   "outputs": [
    {
     "name": "stdout",
     "output_type": "stream",
     "text": [
      "P1000 asd1234567 zxc9876543\n",
      "P1001 1234567890 jukfwsazxc\n",
      "P1002 zadgef4g6u fufe94md4e\n",
      "P1049 vfr4566qwe fq98u94842\n",
      "P1058 qwe1jghj23 awe12rijvb\n",
      "\n",
      "P1000 哦哦 30 3500 玩具城\n",
      "P1000 呵呵 100 15035 奇幻村\n",
      "P1001 哈哈 25 3700 機械墳場\n",
      "P1000 咦咦 10 1100 魔法森林\n",
      "P1049 啊啊 53 6541 弓箭手之村\n",
      "P1058 齁齁 47 6532 玩具城\n",
      "P1001 吼吼 42 5600 地下道\n",
      "P1049 嗚嗚 5 100 天空之城\n"
     ]
    }
   ],
   "source": [
    "cursor.execute(\"SELECT * from 玩家\") \n",
    "rows = cursor.fetchall()\n",
    "\n",
    "for row in rows:\n",
    "    print(row.玩家代碼, row.帳號, row.密碼)\n",
    "\n",
    "print()    \n",
    "    \n",
    "cursor.execute(\"SELECT * from 角色\") \n",
    "rows = cursor.fetchall()\n",
    "\n",
    "for row in rows:\n",
    "    print(row.角色玩家代碼, row.暱稱, row.等級, row.能力值, row.地點)\n",
    "        "
   ]
  },
  {
   "cell_type": "markdown",
   "metadata": {},
   "source": [
    "# 嘗試登入 (玩家)"
   ]
  },
  {
   "cell_type": "code",
   "execution_count": 18,
   "metadata": {
    "scrolled": true
   },
   "outputs": [
    {
     "name": "stdout",
     "output_type": "stream",
     "text": [
      "請玩家輸入帳號：asd1234567\n",
      "請輸入密碼：zxc9876543\n",
      "您的玩家代碼為 P1000\n",
      "       暱 稱    職 業\n",
      "第1隻： 哦哦 | 冰雷導師\n",
      "第2隻： 呵呵 | 龍魔導士\n",
      "第3隻： 咦咦 | 火毒法師\n",
      "請輸入您想選擇的角色(請填寫1,2,3...)：1\n",
      "稍後登入中...\n"
     ]
    }
   ],
   "source": [
    "cursor.execute(\"SELECT * from 玩家\") \n",
    "rows = cursor.fetchall()\n",
    "\n",
    "Account = '' #帳號\n",
    "Password = '' #密碼\n",
    "characterName = '' #角色名字\n",
    "characterId = int() #角色ID\n",
    "\n",
    "## 先請玩家輸入帳號，對應是否有任何正確\n",
    "print('請玩家輸入帳號：', end = '')\n",
    "Account = str(input())\n",
    "\n",
    "login_check = 0 # login_check 代表登入成功與否\n",
    "playerId = '' # 儲存角色ID\n",
    "for row in rows:\n",
    "    \n",
    "    ## 如果有此帳號\n",
    "    if(row.帳號  ==  Account):\n",
    "        ## 再請玩家輸入密碼，檢查是否與帳號吻合\n",
    "        print('請輸入密碼：', end = '')\n",
    "        Password = input(str())\n",
    "        if(row.密碼 == Password):\n",
    "            login_check = 1\n",
    "            playerId = row.玩家代碼\n",
    "        \n",
    "\n",
    "        \n",
    "characterNameList = []        \n",
    "if(login_check == 0):\n",
    "    print(\"帳號或密碼輸入錯誤！\")\n",
    "\n",
    "## 登入成功的玩家代碼繼續到下面選擇角色\n",
    "\n",
    "else:\n",
    "    print('您的玩家代碼為', playerId)\n",
    "    cursor.execute(\"SELECT * from 角色\") \n",
    "    rows = cursor.fetchall()\n",
    "\n",
    "    ## 陳列此帳號所擁有的所有角色 \n",
    "    print('       暱 稱    職 業')\n",
    "    count = 1\n",
    "    for row in rows:\n",
    "        if(row.角色玩家代碼 == playerId):\n",
    "            print('第{}隻： {} | {}'.format(count, row.暱稱, row.職業))\n",
    "            characterNameList.append(row.暱稱)\n",
    "            count+=1\n",
    " \n",
    "    ## 讓玩家選擇角色\n",
    "    print('請輸入您想選擇的角色(請填寫1,2,3...)：', end = '')\n",
    "    characterId = int(input())\n",
    "    \n",
    "    # 抓到角色的名字   \n",
    "    if(characterId <= len(characterNameList)):\n",
    "        characterName = characterNameList[characterId - 1]\n",
    "        print('稍後登入中...')\n",
    "    else:\n",
    "        print('請重新登入！！輸入角色號碼錯誤')\n"
   ]
  },
  {
   "cell_type": "code",
   "execution_count": 19,
   "metadata": {},
   "outputs": [],
   "source": [
    "# 選擇角色陳列角色資訊\n",
    "def character_fomation():\n",
    "    cursor.execute(\"SELECT * from 角色\") \n",
    "    rows = cursor.fetchall()\n",
    "    \n",
    "    print('以下為「{}」的角色資訊:'.format(characterName))\n",
    "    print('{:^6}{:^10}{:^9}{:^10}'.format('職業','等級', '能力值', '地點'))\n",
    "    for row in rows:\n",
    "        if (row.暱稱 == characterName):\n",
    "            print('{:^6}{:^11} {:^10}{:^10}\\n'.format(row.職業, row.等級, row.能力值, row.地點))\n",
    "        \n",
    "def online(characterName):\n",
    "    \n",
    "    cursor.execute(\"SELECT * from 角色\") \n",
    "    rows = cursor.fetchall()\n",
    "    \n",
    "    character_fomation()\n",
    "    update_abilityValue = int()\n",
    "    update_level = int()\n",
    "    update_location = ''\n",
    "\n",
    "    # 更改角色消息 (移動(更改地點等...)，升等(更改能力值) = update)\n",
    "    print('請輸入您想更改的選項：',end = '')\n",
    "    update = int(input('1.移動(更改地點)|2.升等(上線練等)：'))\n",
    "\n",
    "    # 移動角色地點\n",
    "    if(update == 1):\n",
    "        location = '' # 要update的地點\n",
    "        print('輸入想更改的地點:')\n",
    "        location = str(input('A.玩具城|B.天空之城|C.地下道|D.機械墳場|E.水之都：'))\n",
    "        if(location == 'A'):\n",
    "            update_location = '玩具城'\n",
    "            print(characterName, '移動到', update_location)\n",
    "        elif(location=='B'):\n",
    "            update_location = '天空之城'\n",
    "            print(characterName, '移動到', update_location)\n",
    "        elif(location=='C'):\n",
    "            update_location = '地下道'\n",
    "            print(characterName, '移動到', update_location)\n",
    "        elif(location=='D'):\n",
    "            update_location = '機械墳場'\n",
    "            print(characterName, '移動到', update_location)\n",
    "        elif(location=='E'):\n",
    "            update_location = '水之都'\n",
    "            print(characterName, '移動到', update_location)\n",
    "\n",
    "        query = \"UPDATE 角色 SET 地點 = '\"+ update_location +  \"' WHERE convert(nvarchar(255), 暱稱) = '\" + characterName + \"'\"\n",
    "        cursor.execute(query)\n",
    "\n",
    "    # 練等\n",
    "    if(update == 2):\n",
    "        print('上線時間會轉換成經驗值，100分鐘換算一等，一等15點能力值\\n請輸入上線時數(分鐘)：', end = '')\n",
    "        time = int(input())   \n",
    "        for row in rows:\n",
    "            if(row.暱稱 == characterName):\n",
    "                update_abilityValue = int(row.能力值 + (time//100) * 15) # 要 update的能力值\n",
    "                update_level = row.等級 + time // 100 # 要 update的等級\n",
    "                print('你升了 {} 等 | 等級上升為：{}'.format(time//100, update_level))\n",
    "                print('你提升了 {} 點 | 能力值更改為：{}'.format((time//100) * 15, update_abilityValue))\n",
    "                query = \"UPDATE 角色 SET 等級 = \"+ str(update_level) + \", 能力值 = \" + str(update_abilityValue) + \" WHERE convert(nvarchar(255), 暱稱) = '\" + characterName + \"'\"\n",
    "                cursor.execute(query)\n",
    "            "
   ]
  },
  {
   "cell_type": "markdown",
   "metadata": {},
   "source": [
    "# 上線中"
   ]
  },
  {
   "cell_type": "code",
   "execution_count": 20,
   "metadata": {},
   "outputs": [
    {
     "name": "stdout",
     "output_type": "stream",
     "text": [
      "以下為「哦哦」的角色資訊:\n",
      "  職業      等級       能力值       地點    \n",
      " 冰雷導師     30         3500      玩具城    \n",
      "\n",
      "請輸入您想更改的選項：1.移動(更改地點)|2.升等(上線練等)：1\n",
      "輸入想更改的地點:\n",
      "A.玩具城|B.天空之城|C.地下道|D.機械墳場|E.水之都：D\n",
      "哦哦 移動到 機械墳場\n",
      "如果要繼續上線進行遊戲，請選擇 1 ，下線請隨意輸入數字：1\n",
      "----------\n",
      "以下為「哦哦」的角色資訊:\n",
      "  職業      等級       能力值       地點    \n",
      " 冰雷導師     30         3500      機械墳場   \n",
      "\n",
      "請輸入您想更改的選項：1.移動(更改地點)|2.升等(上線練等)：2\n",
      "上線時間會轉換成經驗值，100分鐘換算一等，一等15點能力值\n",
      "請輸入上線時數(分鐘)：600\n",
      "你升了 6 等 | 等級上升為：36\n",
      "你提升了 90 點 | 能力值更改為：3590\n",
      "如果要繼續上線進行遊戲，請選擇 1 ，下線請隨意輸入數字：5\n",
      "----------\n",
      "您最後的登入資訊為：\n",
      "以下為「哦哦」的角色資訊:\n",
      "  職業      等級       能力值       地點    \n",
      " 冰雷導師     36         3590      機械墳場   \n",
      "\n",
      "----------\n",
      "感謝遊玩，如果要繼續請重新登入！\n"
     ]
    }
   ],
   "source": [
    "OnOffLine = 1 #是否繼續進行遊戲\n",
    "\n",
    "while(OnOffLine == 1):\n",
    "    online(characterName)\n",
    "    print('如果要繼續上線進行遊戲，請選擇 1 ，下線請隨意輸入數字：',end = '')\n",
    "    OnOffLine = int(input())\n",
    "    print('----------')\n",
    "\n",
    "print('您最後的登入資訊為：')\n",
    "character_fomation()\n",
    "print('----------')\n",
    "print('感謝遊玩，如果要繼續請重新登入！')\n"
   ]
  },
  {
   "cell_type": "markdown",
   "metadata": {},
   "source": [
    "# 客服系統"
   ]
  },
  {
   "cell_type": "code",
   "execution_count": 21,
   "metadata": {},
   "outputs": [
    {
     "name": "stdout",
     "output_type": "stream",
     "text": [
      "請輸入您需要幫助的內容(ex. 關卡問題，數值問題，系統問題，介面問題等...):\n",
      "關卡問題\n",
      "請輸入您的問題:關卡難度太高我過不了\n",
      "已經收到您對於關卡的回報\n",
      "維護人員:B13 , 部門:系統策畫, 維修原因:最近叫不出登出鍵, 上次維修時間:2021-05-26 06:30:00\n",
      "維護人員:B13 , 部門:系統策畫, 維修原因:我也叫不出登出鍵, 上次維修時間:2021-05-26 06:30:00\n",
      "維護人員:B01 , 部門:關卡策畫, 維修原因:通關獎勵沒有正確發放, 上次維修時間:2021-03-15 10:30:00\n",
      "維護人員:B09 , 部門:數值策畫, 維修原因:角色能力值異常減少, 上次維修時間:2020-11-17 22:28:00\n",
      "維護人員:B13 , 部門:系統策畫, 維修原因:公會戰不能參加, 上次維修時間:2021-01-05 11:16:00\n",
      "維護人員:B15 , 部門:介面策畫, 維修原因:為什麼裝備欄這麼醜？, 上次維修時間:2021-05-26 06:31:00\n",
      "維護人員:B01 , 部門:關卡策畫, 維修原因:可不可以調低關卡難度？, 上次維修時間:2021-05-26 06:34:00\n",
      "維護人員:B01 , 部門:關卡策畫, 維修原因:關卡難度太高我過不了, 上次維修時間:2021-05-26 09:20:00\n",
      "維護人員:B15 , 部門:介面策畫, 維修原因:地圖異常, 上次維修時間:2021-05-23 14:37:00\n",
      "維護人員:B01 , 部門:關卡策畫, 維修原因:想通關, 上次維修時間:2021-03-15 10:30:00\n"
     ]
    }
   ],
   "source": [
    "# 玩家選擇需要幫助的內容 (ex. 關卡問題，數值問題，系統問題，介面問題等...)\n",
    "import time\n",
    "localtime = time.localtime() #抓取目前時間\n",
    "result = time.strftime(\"%Y-%m-%d %I:%M:%S\", localtime) #更改時間格式\n",
    "content=input(\"請輸入您需要幫助的內容(ex. 關卡問題，數值問題，系統問題，介面問題等...):\\n\")\n",
    "\n",
    "# 玩家選擇回報內容 (須提供維修原因 = insert) \n",
    "# 上傳回報內容 (對應到維護人員代碼，部門，及維修原因，維修日期)\n",
    "if content==\"關卡問題\":   \n",
    "    levelq=input(\"請輸入您的問題:\")       \n",
    "    cursor.execute(\"insert into 維護人員 values(?,?,?,?)\",'B01','關卡策畫',levelq,result) \n",
    "    cnxn.commit()\n",
    "    print('已經收到您對於關卡的回報')\n",
    "    \n",
    "elif content==\"數值問題\":\n",
    "    valueq=input(\"請輸入您的問題:\")\n",
    "    cursor.execute(\"insert into 維護人員 values(?,?,?,?)\",'B09','數值策畫',valueq,result) \n",
    "    cnxn.commit()\n",
    "    print('已經收到您對於數值的回報')\n",
    "    \n",
    "elif content==\"系統問題\":\n",
    "    sysq=input(\"請輸入您的問題:\")\n",
    "    cursor.execute(\"insert into 維護人員 values(?,?,?,?)\",'B13','系統策畫',sysq,result)\n",
    "    cnxn.commit()\n",
    "    print('已經收到您對於系統的回報')\n",
    "    \n",
    "elif content==\"介面問題\":\n",
    "    interfaceq=input(\"請輸入您的問題:\")\n",
    "    cursor.execute(\"insert into 維護人員 values(?,?,?,?)\",'B15','介面策畫',interfaceq,result)\n",
    "    cnxn.commit()\n",
    "    print('已經收到您對於介面的回報')\n",
    "    \n",
    "else:\n",
    "    print(\"輸入錯誤\")\n",
    "\n",
    "# 輸出所以近期回報內容\n",
    "cursor.execute(\"select * from 維護人員\")\n",
    "datas = cursor.fetchall() \n",
    "for data in datas:\n",
    "    print('維護人員:{}, 部門:{}, 維修原因:{}, 上次維修時間:{}'.format(data.維護人員代碼,data.部門,data.維修原因,data.上次維修時間))"
   ]
  },
  {
   "cell_type": "code",
   "execution_count": null,
   "metadata": {},
   "outputs": [],
   "source": []
  }
 ],
 "metadata": {
  "kernelspec": {
   "display_name": "Python 3",
   "language": "python",
   "name": "python3"
  },
  "language_info": {
   "codemirror_mode": {
    "name": "ipython",
    "version": 3
   },
   "file_extension": ".py",
   "mimetype": "text/x-python",
   "name": "python",
   "nbconvert_exporter": "python",
   "pygments_lexer": "ipython3",
   "version": "3.7.3"
  }
 },
 "nbformat": 4,
 "nbformat_minor": 2
}
