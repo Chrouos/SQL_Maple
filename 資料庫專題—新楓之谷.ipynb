{
 "cells": [
  {
   "cell_type": "markdown",
   "metadata": {},
   "source": [
    "# 呼叫程式"
   ]
  },
  {
   "cell_type": "code",
   "execution_count": 9,
   "metadata": {},
   "outputs": [],
   "source": [
    "import pyodbc\n",
    "import pandas as pd"
   ]
  },
  {
   "cell_type": "markdown",
   "metadata": {},
   "source": [
    "# 資料庫物件"
   ]
  },
  {
   "cell_type": "code",
   "execution_count": 10,
   "metadata": {},
   "outputs": [],
   "source": [
    "# SQL 物件\n",
    "class sql:\n",
    "    \n",
    "    #建構子，傳入(伺服器名稱，資料庫名稱，使用者名稱，使用者密碼)\n",
    "    def __init__(self,server,database,username,password):\n",
    "        try:\n",
    "            # cnxn 連線位址, cursor 資料指標\n",
    "            self.__cnxn = pyodbc.connect('DRIVER={ODBC Driver 17 for SQL Server};SERVER='+server+';DATABASE='+database+';UID='+username+';PWD='+ password)\n",
    "            self.__cursor = self.__cnxn.cursor()\n",
    "            print('連線成功')\n",
    "        except Exception as e:\n",
    "            print('連線錯誤',e)\n",
    "    \n",
    "    # 詢問 (指令)\n",
    "    def query(self,q):\n",
    "        try:\n",
    "            df = pd.read_sql(q,self.__cnxn)\n",
    "            return df\n",
    "        except Exception as e:\n",
    "            print('錯誤',e)\n",
    "    \n",
    "    # 獲得表格 \n",
    "    def getTable(self):\n",
    "        str1 = 'SELECT TABLE_NAME FROM INFORMATION_SCHEMA.TABLES ORDER BY TABLE_NAME'\n",
    "        return self.query(str1)\n",
    "    "
   ]
  },
  {
   "cell_type": "markdown",
   "metadata": {},
   "source": [
    "# 呼叫資料庫"
   ]
  },
  {
   "cell_type": "code",
   "execution_count": 11,
   "metadata": {},
   "outputs": [
    {
     "name": "stdout",
     "output_type": "stream",
     "text": [
      "連線成功\n"
     ]
    }
   ],
   "source": [
    "# main 函式\n",
    "if __name__ == '__main__':\n",
    "    obj = sql('LAPTOP-BGP802KH\\SQLEXPRESS','新楓之谷','sa','asd464017')\n",
    "    df = obj.query('select * from 角色')\n",
    "    table = obj.getTable()\n"
   ]
  },
  {
   "cell_type": "markdown",
   "metadata": {},
   "source": [
    "# 各個 table 位置對應元素"
   ]
  },
  {
   "cell_type": "code",
   "execution_count": 12,
   "metadata": {},
   "outputs": [
    {
     "name": "stdout",
     "output_type": "stream",
     "text": [
      "角色 0\n",
      "玩家 1\n",
      "開發人員 2\n",
      "維護人員 3\n",
      "  角色玩家代碼  角色代碼                  暱稱        職業   能力值                 地點\n",
      "0  P1000     1  比比                  法師         500   天空之城            \n",
      "1  P1000     2  幕幕                   弓箭手      1500   機械墳場            \n",
      "2  P1000     3  嗚嗚                    龍魔導士    9500  奇幻村              \n",
      "3  P1001     4  哦哦                    冰雷導師    3500  神木村              \n",
      "4  P1021     5  奇匹                   聖鬥士      2700    弓箭手之村          \n",
      "5  P1043     6  大鼠                  凱恩         940    魔法師森林          \n"
     ]
    }
   ],
   "source": [
    "index = 0\n",
    "for i in obj.getTable()['TABLE_NAME']:\n",
    "    print(i, index)\n",
    "    index += 1\n",
    "\n",
    "print(obj.query('select * from ' + '角色'))"
   ]
  },
  {
   "cell_type": "markdown",
   "metadata": {},
   "source": [
    "# 嘗試登入 (玩家)"
   ]
  },
  {
   "cell_type": "code",
   "execution_count": 30,
   "metadata": {},
   "outputs": [
    {
     "name": "stdout",
     "output_type": "stream",
     "text": [
      "請玩家輸入帳號：  角色玩家代碼  角色代碼                  暱稱        職業   能力值                 地點\n",
      "0  P1000     1  比比                  法師         500   天空之城            \n",
      "1  P1000     2  幕幕                   弓箭手      1500   機械墳場            \n",
      "2  P1000     3  嗚嗚                    龍魔導士    9500  奇幻村              \n",
      "3  P1001     4  哦哦                    冰雷導師    3500  神木村              \n",
      "4  P1021     5  奇匹                   聖鬥士      2700    弓箭手之村          \n",
      "5  P1043     6  大鼠                  凱恩         940    魔法師森林          \n"
     ]
    }
   ],
   "source": [
    "Account = ''\n",
    "password = ''\n",
    "\n",
    "# 先請玩家輸入帳號，對應是否有任何正確\n",
    "print('請玩家輸入帳號：', end = '')\n",
    "#Account = input(str())\n",
    "\n",
    "print(obj.query('select * from ' + '角色'))\n",
    "#for row in obj.getTable()['TABLE_NAME'][0][1]:\n",
    "    #print(row)\n",
    "\n",
    "\n",
    "# 再請玩家輸入密碼，檢查是否與帳號吻合\n",
    "\n",
    "\n",
    "# 登入成功的玩家代碼繼續到下面選擇角色\n",
    "playerID = ''"
   ]
  },
  {
   "cell_type": "markdown",
   "metadata": {},
   "source": [
    "# 選擇角色"
   ]
  },
  {
   "cell_type": "code",
   "execution_count": 15,
   "metadata": {},
   "outputs": [],
   "source": [
    "# 陳列擁有角色清單\n",
    "\n",
    "# 讓玩家選擇角色\n",
    "\n",
    "# 選擇角色陳列角色資訊"
   ]
  },
  {
   "cell_type": "markdown",
   "metadata": {},
   "source": [
    "# 客服系統"
   ]
  },
  {
   "cell_type": "code",
   "execution_count": null,
   "metadata": {},
   "outputs": [],
   "source": [
    "# 玩家選擇需要幫助的內容 (ex. 關卡問題，數值問題，系統問題，介面問題等...)\n",
    "\n",
    "\n",
    "# 玩家選擇回報內容 (須提供維修原因)\n",
    "\n",
    "\n",
    "# 上傳回報內容 (對應到維護人員代碼，部門，及維修原因，維修日期)\n",
    "\n",
    "# 輸出所以近期回報內容"
   ]
  }
 ],
 "metadata": {
  "kernelspec": {
   "display_name": "Python 3",
   "language": "python",
   "name": "python3"
  },
  "language_info": {
   "codemirror_mode": {
    "name": "ipython",
    "version": 3
   },
   "file_extension": ".py",
   "mimetype": "text/x-python",
   "name": "python",
   "nbconvert_exporter": "python",
   "pygments_lexer": "ipython3",
   "version": "3.7.3"
  }
 },
 "nbformat": 4,
 "nbformat_minor": 2
}
